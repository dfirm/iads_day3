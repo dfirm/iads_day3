{
  "nbformat": 4,
  "nbformat_minor": 0,
  "metadata": {
    "kernelspec": {
      "display_name": "Python 3",
      "language": "python",
      "name": "python3"
    },
    "language_info": {
      "codemirror_mode": {
        "name": "ipython",
        "version": 3
      },
      "file_extension": ".py",
      "mimetype": "text/x-python",
      "name": "python",
      "nbconvert_exporter": "python",
      "pygments_lexer": "ipython3",
      "version": "3.6.5"
    },
    "colab": {
      "name": "Exercise_3_RNN.ipynb",
      "provenance": [],
      "include_colab_link": true
    },
    "accelerator": "GPU"
  },
  "cells": [
    {
      "cell_type": "markdown",
      "metadata": {
        "id": "view-in-github",
        "colab_type": "text"
      },
      "source": [
        "<a href=\"https://colab.research.google.com/github/dfirm/iads_day3/blob/main/RNN.ipynb\" target=\"_parent\"><img src=\"https://colab.research.google.com/assets/colab-badge.svg\" alt=\"Open In Colab\"/></a>"
      ]
    },
    {
      "cell_type": "code",
      "metadata": {
        "id": "2OEAdhW0qjg9",
        "outputId": "1f3ffa55-4427-4b98-b907-856e45a4dc65",
        "colab": {
          "base_uri": "https://localhost:8080/",
          "height": 35
        }
      },
      "source": [
        "import keras\n",
        "keras.__version__"
      ],
      "execution_count": 1,
      "outputs": [
        {
          "output_type": "execute_result",
          "data": {
            "application/vnd.google.colaboratory.intrinsic+json": {
              "type": "string"
            },
            "text/plain": [
              "'2.5.0'"
            ]
          },
          "metadata": {
            "tags": []
          },
          "execution_count": 1
        }
      ]
    },
    {
      "cell_type": "code",
      "metadata": {
        "id": "TYsNtFxgqjhC",
        "outputId": "bae5ccf3-290c-41be-9c0f-387e022be778",
        "colab": {
          "base_uri": "https://localhost:8080/"
        }
      },
      "source": [
        "from keras.preprocessing.text import Tokenizer\n",
        "samples = ['The cat sat on the mat.', 'The dog ate my homework.']\n",
        "\n",
        "# We create a tokenizer, configured to only take into account the top-1000 most common words\n",
        "tokenizer = Tokenizer(num_words=1000)\n",
        "\n",
        "# This builds the word index\n",
        "tokenizer.fit_on_texts(samples)\n",
        "\n",
        "# This turns strings into lists of integer indices.\n",
        "sequences = tokenizer.texts_to_sequences(samples)\n",
        "\n",
        "# You could also directly get the one-hot binary representations.\n",
        "# Note that other vectorization modes than one-hot encoding are supported!\n",
        "one_hot_results = tokenizer.texts_to_matrix(samples, mode='binary')\n",
        "\n",
        "# This is how you can recover the word index that was computed\n",
        "word_index = tokenizer.word_index\n",
        "print('Found %s unique tokens.' % len(word_index))"
      ],
      "execution_count": 2,
      "outputs": [
        {
          "output_type": "stream",
          "text": [
            "Found 9 unique tokens.\n"
          ],
          "name": "stdout"
        }
      ]
    },
    {
      "cell_type": "code",
      "metadata": {
        "id": "_1bFuvqKqjhF",
        "outputId": "8dc7689c-0447-4d2b-b71d-ee346fbafab7",
        "colab": {
          "base_uri": "https://localhost:8080/"
        }
      },
      "source": [
        "one_hot_results"
      ],
      "execution_count": 3,
      "outputs": [
        {
          "output_type": "execute_result",
          "data": {
            "text/plain": [
              "array([[0., 1., 1., ..., 0., 0., 0.],\n",
              "       [0., 1., 0., ..., 0., 0., 0.]])"
            ]
          },
          "metadata": {
            "tags": []
          },
          "execution_count": 3
        }
      ]
    },
    {
      "cell_type": "markdown",
      "metadata": {
        "id": "95o1mdJkqjhI"
      },
      "source": [
        "Using word-embeddings "
      ]
    },
    {
      "cell_type": "code",
      "metadata": {
        "id": "DSAIqfdoqjhJ",
        "outputId": "334669a8-9a91-4c46-dfaa-bcd6b724786f",
        "colab": {
          "base_uri": "https://localhost:8080/"
        }
      },
      "source": [
        "from keras.datasets import imdb\n",
        "from keras.preprocessing import sequence\n",
        "\n",
        "max_features = 10000\n",
        "maxlen = 500\n",
        "batch_size = 32\n",
        "print('Loading data...')\n",
        "(input_train, y_train), (input_test, y_test) = imdb.load_data(num_words=max_features)\n",
        "print(len(input_train), 'train sequences')\n",
        "print(len(input_test), 'test sequences')\n",
        "print('Pad sequences (samples x time)')\n",
        "input_train = sequence.pad_sequences(input_train, maxlen=maxlen)\n",
        "input_test = sequence.pad_sequences(input_test, maxlen=maxlen)\n",
        "print('input_train shape:', input_train.shape)\n",
        "print('input_test shape:', input_test.shape)"
      ],
      "execution_count": 4,
      "outputs": [
        {
          "output_type": "stream",
          "text": [
            "Loading data...\n",
            "Downloading data from https://storage.googleapis.com/tensorflow/tf-keras-datasets/imdb.npz\n",
            "17465344/17464789 [==============================] - 0s 0us/step\n",
            "17473536/17464789 [==============================] - 0s 0us/step\n"
          ],
          "name": "stdout"
        },
        {
          "output_type": "stream",
          "text": [
            "<string>:6: VisibleDeprecationWarning: Creating an ndarray from ragged nested sequences (which is a list-or-tuple of lists-or-tuples-or ndarrays with different lengths or shapes) is deprecated. If you meant to do this, you must specify 'dtype=object' when creating the ndarray\n",
            "/usr/local/lib/python3.7/dist-packages/keras/datasets/imdb.py:155: VisibleDeprecationWarning: Creating an ndarray from ragged nested sequences (which is a list-or-tuple of lists-or-tuples-or ndarrays with different lengths or shapes) is deprecated. If you meant to do this, you must specify 'dtype=object' when creating the ndarray\n",
            "  x_train, y_train = np.array(xs[:idx]), np.array(labels[:idx])\n",
            "/usr/local/lib/python3.7/dist-packages/keras/datasets/imdb.py:156: VisibleDeprecationWarning: Creating an ndarray from ragged nested sequences (which is a list-or-tuple of lists-or-tuples-or ndarrays with different lengths or shapes) is deprecated. If you meant to do this, you must specify 'dtype=object' when creating the ndarray\n",
            "  x_test, y_test = np.array(xs[idx:]), np.array(labels[idx:])\n"
          ],
          "name": "stderr"
        },
        {
          "output_type": "stream",
          "text": [
            "25000 train sequences\n",
            "25000 test sequences\n",
            "Pad sequences (samples x time)\n",
            "input_train shape: (25000, 500)\n",
            "input_test shape: (25000, 500)\n"
          ],
          "name": "stdout"
        }
      ]
    },
    {
      "cell_type": "markdown",
      "metadata": {
        "id": "5ssh97qDqjhM"
      },
      "source": [
        "### Training the model with Embedding and SimpleRNN layers"
      ]
    },
    {
      "cell_type": "code",
      "metadata": {
        "id": "t_lIlBilqjhN",
        "outputId": "df9e7fbf-d3a9-497e-a804-c9f6916a95f5",
        "colab": {
          "base_uri": "https://localhost:8080/"
        }
      },
      "source": [
        "from keras.layers import Dense\n",
        "from keras.layers import Embedding, SimpleRNN\n",
        "from keras import Sequential\n",
        "\n",
        "model = Sequential()\n",
        "model.add(Embedding(max_features, 32))\n",
        "model.add(SimpleRNN(32))\n",
        "model.add(Dense(1, activation='sigmoid'))\n",
        "model.summary()\n",
        "model.compile(optimizer='rmsprop', loss='binary_crossentropy', metrics=['acc'])\n",
        "history = model.fit(input_train, y_train, \n",
        "                    epochs=10,\n",
        "                    batch_size=128,\n",
        "                    validation_split=0.2)\n"
      ],
      "execution_count": 5,
      "outputs": [
        {
          "output_type": "stream",
          "text": [
            "Model: \"sequential\"\n",
            "_________________________________________________________________\n",
            "Layer (type)                 Output Shape              Param #   \n",
            "=================================================================\n",
            "embedding (Embedding)        (None, None, 32)          320000    \n",
            "_________________________________________________________________\n",
            "simple_rnn (SimpleRNN)       (None, 32)                2080      \n",
            "_________________________________________________________________\n",
            "dense (Dense)                (None, 1)                 33        \n",
            "=================================================================\n",
            "Total params: 322,113\n",
            "Trainable params: 322,113\n",
            "Non-trainable params: 0\n",
            "_________________________________________________________________\n",
            "Epoch 1/10\n",
            "157/157 [==============================] - 89s 433ms/step - loss: 0.6712 - acc: 0.5671 - val_loss: 0.5272 - val_acc: 0.7362\n",
            "Epoch 2/10\n",
            "157/157 [==============================] - 68s 436ms/step - loss: 0.4347 - acc: 0.8104 - val_loss: 0.4403 - val_acc: 0.8026\n",
            "Epoch 3/10\n",
            "157/157 [==============================] - 67s 424ms/step - loss: 0.3103 - acc: 0.8765 - val_loss: 0.3984 - val_acc: 0.8396\n",
            "Epoch 4/10\n",
            "157/157 [==============================] - 68s 435ms/step - loss: 0.2428 - acc: 0.9056 - val_loss: 0.4081 - val_acc: 0.8276\n",
            "Epoch 5/10\n",
            "157/157 [==============================] - 67s 427ms/step - loss: 0.1781 - acc: 0.9367 - val_loss: 0.4656 - val_acc: 0.8010\n",
            "Epoch 6/10\n",
            "157/157 [==============================] - 69s 440ms/step - loss: 0.1162 - acc: 0.9610 - val_loss: 0.3950 - val_acc: 0.8566\n",
            "Epoch 7/10\n",
            "157/157 [==============================] - 67s 430ms/step - loss: 0.0682 - acc: 0.9789 - val_loss: 0.4863 - val_acc: 0.8162\n",
            "Epoch 8/10\n",
            "157/157 [==============================] - 69s 439ms/step - loss: 0.0412 - acc: 0.9887 - val_loss: 0.7777 - val_acc: 0.7364\n",
            "Epoch 9/10\n",
            "157/157 [==============================] - 68s 432ms/step - loss: 0.0327 - acc: 0.9908 - val_loss: 0.5903 - val_acc: 0.8122\n",
            "Epoch 10/10\n",
            "157/157 [==============================] - 67s 427ms/step - loss: 0.0188 - acc: 0.9953 - val_loss: 0.6483 - val_acc: 0.8080\n"
          ],
          "name": "stdout"
        }
      ]
    },
    {
      "cell_type": "code",
      "metadata": {
        "id": "w03gEZ2RqjhQ",
        "outputId": "fbd1c761-69f4-47ff-f2eb-bc526df24d0b",
        "colab": {
          "base_uri": "https://localhost:8080/",
          "height": 545
        }
      },
      "source": [
        "import matplotlib.pyplot as plt\n",
        "\n",
        "acc = history.history['acc']\n",
        "val_acc = history.history['val_acc']\n",
        "loss = history.history['loss']\n",
        "val_loss = history.history['val_loss']\n",
        "\n",
        "epochs = range(1, len(acc) + 1)\n",
        "\n",
        "plt.plot(epochs, acc, 'bo', label='Training acc')\n",
        "plt.plot(epochs, val_acc, 'b', label='Validation acc')\n",
        "plt.title('Training and validation accuracy')\n",
        "plt.legend()\n",
        "\n",
        "plt.figure()\n",
        "\n",
        "plt.plot(epochs, loss, 'bo', label='Training loss')\n",
        "plt.plot(epochs, val_loss, 'b', label='Validation loss')\n",
        "plt.title('Training and validation loss')\n",
        "plt.legend()\n",
        "\n",
        "plt.show()"
      ],
      "execution_count": 6,
      "outputs": [
        {
          "output_type": "display_data",
          "data": {
            "image/png": "[encoded data removed]",
            "text/plain": [
              "<Figure size 432x288 with 1 Axes>"
            ]
          },
          "metadata": {
            "tags": [],
            "needs_background": "light"
          }
        },
        {
          "output_type": "display_data",
          "data": {
            "image/png": "[encoded data removed]",
            "text/plain": [
              "<Figure size 432x288 with 1 Axes>"
            ]
          },
          "metadata": {
            "tags": [],
            "needs_background": "light"
          }
        }
      ]
    },
    {
      "cell_type": "markdown",
      "metadata": {
        "id": "mz8CfgKcqjhT"
      },
      "source": [
        "### Training the model with Embedding and SimpleRNN layers"
      ]
    },
    {
      "cell_type": "code",
      "metadata": {
        "id": "U_wjH-KGqjhU",
        "outputId": "d91264c0-4fd7-43d8-a699-63fe3aaa2a7e",
        "colab": {
          "base_uri": "https://localhost:8080/"
        }
      },
      "source": [
        "from keras.layers import LSTM\n",
        "\n",
        "model = Sequential()\n",
        "model.add(Embedding(max_features, 32))\n",
        "model.add(LSTM(32))\n",
        "model.add(Dense(1, activation='sigmoid'))\n",
        "model.compile(optimizer='SGD',\n",
        "loss='binary_crossentropy',\n",
        "metrics=['acc'])\n",
        "history = model.fit(input_train, y_train,\n",
        "                    epochs=10,\n",
        "                    batch_size=128,\n",
        "                    validation_split=0.2)"
      ],
      "execution_count": 12,
      "outputs": [
        {
          "output_type": "stream",
          "text": [
            "Epoch 1/10\n",
            "157/157 [==============================] - 7s 34ms/step - loss: 0.6931 - acc: 0.5012 - val_loss: 0.6929 - val_acc: 0.5094\n",
            "Epoch 2/10\n",
            "157/157 [==============================] - 5s 30ms/step - loss: 0.6931 - acc: 0.5079 - val_loss: 0.6929 - val_acc: 0.5110\n",
            "Epoch 3/10\n",
            "157/157 [==============================] - 5s 29ms/step - loss: 0.6930 - acc: 0.5094 - val_loss: 0.6929 - val_acc: 0.5136\n",
            "Epoch 4/10\n",
            "157/157 [==============================] - 5s 30ms/step - loss: 0.6929 - acc: 0.5177 - val_loss: 0.6929 - val_acc: 0.5136\n",
            "Epoch 5/10\n",
            "157/157 [==============================] - 5s 30ms/step - loss: 0.6929 - acc: 0.5180 - val_loss: 0.6928 - val_acc: 0.5192\n",
            "Epoch 6/10\n",
            "157/157 [==============================] - 5s 30ms/step - loss: 0.6929 - acc: 0.5155 - val_loss: 0.6929 - val_acc: 0.5074\n",
            "Epoch 7/10\n",
            "157/157 [==============================] - 5s 30ms/step - loss: 0.6929 - acc: 0.5145 - val_loss: 0.6928 - val_acc: 0.5102\n",
            "Epoch 8/10\n",
            "157/157 [==============================] - 5s 30ms/step - loss: 0.6928 - acc: 0.5196 - val_loss: 0.6927 - val_acc: 0.5202\n",
            "Epoch 9/10\n",
            "157/157 [==============================] - 5s 30ms/step - loss: 0.6927 - acc: 0.5193 - val_loss: 0.6927 - val_acc: 0.5234\n",
            "Epoch 10/10\n",
            "157/157 [==============================] - 5s 29ms/step - loss: 0.6927 - acc: 0.5248 - val_loss: 0.6926 - val_acc: 0.5212\n"
          ],
          "name": "stdout"
        }
      ]
    },
    {
      "cell_type": "code",
      "metadata": {
        "id": "HU4eGq-DqjhX",
        "outputId": "6a8c4c97-ecbb-4737-ac42-a2e29462454d",
        "colab": {
          "base_uri": "https://localhost:8080/",
          "height": 545
        }
      },
      "source": [
        "import matplotlib.pyplot as plt\n",
        "\n",
        "acc = history.history['acc']\n",
        "val_acc = history.history['val_acc']\n",
        "loss = history.history['loss']\n",
        "val_loss = history.history['val_loss']\n",
        "\n",
        "epochs = range(1, len(acc) + 1)\n",
        "\n",
        "plt.plot(epochs, acc, 'bo', label='Training acc')\n",
        "plt.plot(epochs, val_acc, 'b', label='Validation acc')\n",
        "plt.title('Training and validation accuracy')\n",
        "plt.legend()\n",
        "\n",
        "plt.figure()\n",
        "\n",
        "plt.plot(epochs, loss, 'bo', label='Training loss')\n",
        "plt.plot(epochs, val_loss, 'b', label='Validation loss')\n",
        "plt.title('Training and validation loss')\n",
        "plt.legend()\n",
        "\n",
        "plt.show()"
      ],
      "execution_count": 13,
      "outputs": [
        {
          "output_type": "display_data",
          "data": {
            "image/png": "[encoded data removed]",
            "text/plain": [
              "<Figure size 432x288 with 1 Axes>"
            ]
          },
          "metadata": {
            "tags": [],
            "needs_background": "light"
          }
        },
        {
          "output_type": "display_data",
          "data": {
            "image/png": "[encoded data removed]",
            "text/plain": [
              "<Figure size 432x288 with 1 Axes>"
            ]
          },
          "metadata": {
            "tags": [],
            "needs_background": "light"
          }
        }
      ]
    },
    {
      "cell_type": "markdown",
      "metadata": {
        "id": "r69U5tFUZ82R"
      },
      "source": [
        "### Task 3: \n",
        "\n",
        "Please consider this Time Series Prediction with LSTM Recurrent Neural Networks. We can see that the LSTM model in the code below has an average error of about 23 passengers (in thousands) on the training dataset, and about 53 passengers (in thousands) on the test dataset. Not that bad. Can you please improve the performance?\n",
        "\n",
        "#### Dataset Discription\n",
        "The problem we are going to look at in this post is the International Airline Passengers prediction problem.\n",
        "This is a problem where, given a year and a month, the task is to predict the number of international airline passengers in units of 1,000. The data ranges from January 1949 to December 1960, or 12 years, with 144 observations.\n",
        "\n"
      ]
    },
    {
      "cell_type": "code",
      "metadata": {
        "colab": {
          "base_uri": "https://localhost:8080/",
          "height": 1000
        },
        "id": "w1vSusoyatCW",
        "outputId": "0991615d-3796-4ffe-d5c3-2ecd3d847e60"
      },
      "source": [
        "import numpy\n",
        "import math\n",
        "import matplotlib.pyplot as plt\n",
        "from pandas import read_csv\n",
        "from keras.models import Sequential\n",
        "from keras.layers import Dense\n",
        "from keras.layers import LSTM\n",
        "from sklearn.preprocessing import MinMaxScaler\n",
        "from sklearn.metrics import mean_squared_error\n",
        "# convert an array of values into a dataset matrix\n",
        "def create_dataset(dataset, look_back=1):\n",
        "\tdataX, dataY = [], []\n",
        "\tfor i in range(len(dataset)-look_back-1):\n",
        "\t\ta = dataset[i:(i+look_back), 0]\n",
        "\t\tdataX.append(a)\n",
        "\t\tdataY.append(dataset[i + look_back, 0])\n",
        "\treturn numpy.array(dataX), numpy.array(dataY)\n",
        "# fix random seed for reproducibility\n",
        "numpy.random.seed(7)\n",
        "# load the dataset\n",
        "dataframe = read_csv('https://raw.githubusercontent.com/jbrownlee/Datasets/master/airline-passengers.csv', usecols=[1], engine='python')\n",
        "dataset = dataframe.values\n",
        "dataset = dataset.astype('float32')\n",
        "# normalize the dataset\n",
        "scaler = MinMaxScaler(feature_range=(0, 1))\n",
        "dataset = scaler.fit_transform(dataset)\n",
        "# split into train and test sets\n",
        "train_size = int(len(dataset) * 0.67)\n",
        "test_size = len(dataset) - train_size\n",
        "train, test = dataset[0:train_size,:], dataset[train_size:len(dataset),:]\n",
        "# reshape into X=t and Y=t+1\n",
        "look_back = 1\n",
        "trainX, trainY = create_dataset(train, look_back)\n",
        "testX, testY = create_dataset(test, look_back)\n",
        "# reshape input to be [samples, time steps, features]\n",
        "trainX = numpy.reshape(trainX, (trainX.shape[0], 1, trainX.shape[1]))\n",
        "testX = numpy.reshape(testX, (testX.shape[0], 1, testX.shape[1]))\n",
        "# create and fit the LSTM network\n",
        "model = Sequential()\n",
        "model.add(LSTM(4, input_shape=(1, look_back)))\n",
        "model.add(Dense(1))\n",
        "model.compile(loss='mean_squared_error', optimizer='Ftrl')\n",
        "model.fit(trainX, trainY, epochs=100, batch_size=1, verbose=2)\n",
        "# make predictions\n",
        "trainPredict = model.predict(trainX)\n",
        "testPredict = model.predict(testX)\n",
        "# invert predictions\n",
        "trainPredict = scaler.inverse_transform(trainPredict)\n",
        "trainY = scaler.inverse_transform([trainY])\n",
        "testPredict = scaler.inverse_transform(testPredict)\n",
        "testY = scaler.inverse_transform([testY])\n",
        "# calculate root mean squared error\n",
        "trainScore = math.sqrt(mean_squared_error(trainY[0], trainPredict[:,0]))\n",
        "print('Train Score: %.2f RMSE' % (trainScore))\n",
        "testScore = math.sqrt(mean_squared_error(testY[0], testPredict[:,0]))\n",
        "print('Test Score: %.2f RMSE' % (testScore))\n",
        "# shift train predictions for plotting\n",
        "trainPredictPlot = numpy.empty_like(dataset)\n",
        "trainPredictPlot[:, :] = numpy.nan\n",
        "trainPredictPlot[look_back:len(trainPredict)+look_back, :] = trainPredict\n",
        "# shift test predictions for plotting\n",
        "testPredictPlot = numpy.empty_like(dataset)\n",
        "testPredictPlot[:, :] = numpy.nan\n",
        "testPredictPlot[len(trainPredict)+(look_back*2)+1:len(dataset)-1, :] = testPredict\n",
        "# plot baseline and predictions\n",
        "plt.plot(scaler.inverse_transform(dataset))\n",
        "plt.plot(trainPredictPlot)\n",
        "plt.plot(testPredictPlot)\n",
        "plt.show()"
      ],
      "execution_count": 24,
      "outputs": [
        {
          "output_type": "stream",
          "text": [
            "Epoch 1/100\n",
            "94/94 - 2s - loss: 0.0602\n",
            "Epoch 2/100\n",
            "94/94 - 0s - loss: 0.0567\n",
            "Epoch 3/100\n",
            "94/94 - 0s - loss: 0.0546\n",
            "Epoch 4/100\n",
            "94/94 - 0s - loss: 0.0530\n",
            "Epoch 5/100\n",
            "94/94 - 0s - loss: 0.0516\n",
            "Epoch 6/100\n",
            "94/94 - 0s - loss: 0.0504\n",
            "Epoch 7/100\n",
            "94/94 - 0s - loss: 0.0493\n",
            "Epoch 8/100\n",
            "94/94 - 0s - loss: 0.0484\n",
            "Epoch 9/100\n",
            "94/94 - 0s - loss: 0.0475\n",
            "Epoch 10/100\n",
            "94/94 - 0s - loss: 0.0467\n",
            "Epoch 11/100\n",
            "94/94 - 0s - loss: 0.0460\n",
            "Epoch 12/100\n",
            "94/94 - 0s - loss: 0.0453\n",
            "Epoch 13/100\n",
            "94/94 - 0s - loss: 0.0446\n",
            "Epoch 14/100\n",
            "94/94 - 0s - loss: 0.0440\n",
            "Epoch 15/100\n",
            "94/94 - 0s - loss: 0.0434\n",
            "Epoch 16/100\n",
            "94/94 - 0s - loss: 0.0429\n",
            "Epoch 17/100\n",
            "94/94 - 0s - loss: 0.0424\n",
            "Epoch 18/100\n",
            "94/94 - 0s - loss: 0.0419\n",
            "Epoch 19/100\n",
            "94/94 - 0s - loss: 0.0414\n",
            "Epoch 20/100\n",
            "94/94 - 0s - loss: 0.0409\n",
            "Epoch 21/100\n",
            "94/94 - 0s - loss: 0.0405\n",
            "Epoch 22/100\n",
            "94/94 - 0s - loss: 0.0401\n",
            "Epoch 23/100\n",
            "94/94 - 0s - loss: 0.0397\n",
            "Epoch 24/100\n",
            "94/94 - 0s - loss: 0.0393\n",
            "Epoch 25/100\n",
            "94/94 - 0s - loss: 0.0389\n",
            "Epoch 26/100\n",
            "94/94 - 0s - loss: 0.0385\n",
            "Epoch 27/100\n",
            "94/94 - 0s - loss: 0.0382\n",
            "Epoch 28/100\n",
            "94/94 - 0s - loss: 0.0379\n",
            "Epoch 29/100\n",
            "94/94 - 0s - loss: 0.0375\n",
            "Epoch 30/100\n",
            "94/94 - 0s - loss: 0.0372\n",
            "Epoch 31/100\n",
            "94/94 - 0s - loss: 0.0369\n",
            "Epoch 32/100\n",
            "94/94 - 0s - loss: 0.0366\n",
            "Epoch 33/100\n",
            "94/94 - 0s - loss: 0.0363\n",
            "Epoch 34/100\n",
            "94/94 - 0s - loss: 0.0360\n",
            "Epoch 35/100\n",
            "94/94 - 0s - loss: 0.0358\n",
            "Epoch 36/100\n",
            "94/94 - 0s - loss: 0.0355\n",
            "Epoch 37/100\n",
            "94/94 - 0s - loss: 0.0352\n",
            "Epoch 38/100\n",
            "94/94 - 0s - loss: 0.0350\n",
            "Epoch 39/100\n",
            "94/94 - 0s - loss: 0.0347\n",
            "Epoch 40/100\n",
            "94/94 - 0s - loss: 0.0345\n",
            "Epoch 41/100\n",
            "94/94 - 0s - loss: 0.0343\n",
            "Epoch 42/100\n",
            "94/94 - 0s - loss: 0.0340\n",
            "Epoch 43/100\n",
            "94/94 - 0s - loss: 0.0338\n",
            "Epoch 44/100\n",
            "94/94 - 0s - loss: 0.0336\n",
            "Epoch 45/100\n",
            "94/94 - 0s - loss: 0.0334\n",
            "Epoch 46/100\n",
            "94/94 - 0s - loss: 0.0332\n",
            "Epoch 47/100\n",
            "94/94 - 0s - loss: 0.0330\n",
            "Epoch 48/100\n",
            "94/94 - 0s - loss: 0.0328\n",
            "Epoch 49/100\n",
            "94/94 - 0s - loss: 0.0326\n",
            "Epoch 50/100\n",
            "94/94 - 0s - loss: 0.0324\n",
            "Epoch 51/100\n",
            "94/94 - 0s - loss: 0.0322\n",
            "Epoch 52/100\n",
            "94/94 - 0s - loss: 0.0320\n",
            "Epoch 53/100\n",
            "94/94 - 0s - loss: 0.0319\n",
            "Epoch 54/100\n",
            "94/94 - 0s - loss: 0.0317\n",
            "Epoch 55/100\n",
            "94/94 - 0s - loss: 0.0315\n",
            "Epoch 56/100\n",
            "94/94 - 0s - loss: 0.0313\n",
            "Epoch 57/100\n",
            "94/94 - 0s - loss: 0.0312\n",
            "Epoch 58/100\n",
            "94/94 - 0s - loss: 0.0310\n",
            "Epoch 59/100\n",
            "94/94 - 0s - loss: 0.0309\n",
            "Epoch 60/100\n",
            "94/94 - 0s - loss: 0.0307\n",
            "Epoch 61/100\n",
            "94/94 - 0s - loss: 0.0306\n",
            "Epoch 62/100\n",
            "94/94 - 0s - loss: 0.0304\n",
            "Epoch 63/100\n",
            "94/94 - 0s - loss: 0.0303\n",
            "Epoch 64/100\n",
            "94/94 - 0s - loss: 0.0301\n",
            "Epoch 65/100\n",
            "94/94 - 0s - loss: 0.0300\n",
            "Epoch 66/100\n",
            "94/94 - 0s - loss: 0.0299\n",
            "Epoch 67/100\n",
            "94/94 - 0s - loss: 0.0297\n",
            "Epoch 68/100\n",
            "94/94 - 0s - loss: 0.0296\n",
            "Epoch 69/100\n",
            "94/94 - 0s - loss: 0.0295\n",
            "Epoch 70/100\n",
            "94/94 - 0s - loss: 0.0293\n",
            "Epoch 71/100\n",
            "94/94 - 0s - loss: 0.0292\n",
            "Epoch 72/100\n",
            "94/94 - 0s - loss: 0.0291\n",
            "Epoch 73/100\n",
            "94/94 - 0s - loss: 0.0290\n",
            "Epoch 74/100\n",
            "94/94 - 0s - loss: 0.0288\n",
            "Epoch 75/100\n",
            "94/94 - 0s - loss: 0.0287\n",
            "Epoch 76/100\n",
            "94/94 - 0s - loss: 0.0286\n",
            "Epoch 77/100\n",
            "94/94 - 0s - loss: 0.0285\n",
            "Epoch 78/100\n",
            "94/94 - 0s - loss: 0.0284\n",
            "Epoch 79/100\n",
            "94/94 - 0s - loss: 0.0283\n",
            "Epoch 80/100\n",
            "94/94 - 0s - loss: 0.0282\n",
            "Epoch 81/100\n",
            "94/94 - 0s - loss: 0.0281\n",
            "Epoch 82/100\n",
            "94/94 - 0s - loss: 0.0280\n",
            "Epoch 83/100\n",
            "94/94 - 0s - loss: 0.0278\n",
            "Epoch 84/100\n",
            "94/94 - 0s - loss: 0.0277\n",
            "Epoch 85/100\n",
            "94/94 - 0s - loss: 0.0276\n",
            "Epoch 86/100\n",
            "94/94 - 0s - loss: 0.0275\n",
            "Epoch 87/100\n",
            "94/94 - 0s - loss: 0.0275\n",
            "Epoch 88/100\n",
            "94/94 - 0s - loss: 0.0274\n",
            "Epoch 89/100\n",
            "94/94 - 0s - loss: 0.0273\n",
            "Epoch 90/100\n",
            "94/94 - 0s - loss: 0.0272\n",
            "Epoch 91/100\n",
            "94/94 - 0s - loss: 0.0271\n",
            "Epoch 92/100\n",
            "94/94 - 0s - loss: 0.0270\n",
            "Epoch 93/100\n",
            "94/94 - 0s - loss: 0.0269\n",
            "Epoch 94/100\n",
            "94/94 - 0s - loss: 0.0268\n",
            "Epoch 95/100\n",
            "94/94 - 0s - loss: 0.0267\n",
            "Epoch 96/100\n",
            "94/94 - 0s - loss: 0.0266\n",
            "Epoch 97/100\n",
            "94/94 - 0s - loss: 0.0266\n",
            "Epoch 98/100\n",
            "94/94 - 0s - loss: 0.0265\n",
            "Epoch 99/100\n",
            "94/94 - 0s - loss: 0.0264\n",
            "Epoch 100/100\n",
            "94/94 - 0s - loss: 0.0263\n",
            "Train Score: 83.97 RMSE\n",
            "Test Score: 258.44 RMSE\n"
          ],
          "name": "stdout"
        },
        {
          "output_type": "display_data",
          "data": {
            "image/png": "[encoded data removed]",
            "text/plain": [
              "<Figure size 432x288 with 1 Axes>"
            ]
          },
          "metadata": {
            "tags": [],
            "needs_background": "light"
          }
        }
      ]
    },
    {
      "cell_type": "markdown",
      "metadata": {
        "id": "AwFM3IDthQH5"
      },
      "source": [
        "# SGD\n",
        "Train Score: 57.82 RMSE\n",
        "Test Score: 178.11 RMSE\n",
        "# RMSprop\n",
        "Train Score: 23.27 RMSE\n",
        "Test Score: 54.61 RMSE\n",
        "# Adam\n",
        "Train Score: 23.23 RMSE\n",
        "Test Score: 51.29 RMSE\n",
        "# Adadelta\n",
        "Train Score: 116.56 RMSE\n",
        "Test Score: 290.91 RMSE\n",
        "# Adagrad\n",
        "Train Score: 47.34 RMSE\n",
        "Test Score: 147.26 RMSE\n",
        "# Adamax\n",
        "Train Score: 22.78 RMSE\n",
        "Test Score: 48.67 RMSE\n",
        "# Nadam\n",
        "Train Score: 22.67 RMSE\n",
        "Test Score: 50.00 RMSE\n",
        "# Ftrl\n",
        "Train Score: 83.97 RMSE\n",
        "Test Score: 258.44 RMSE\n"
      ]
    },
    {
      "cell_type": "markdown",
      "metadata": {
        "id": "ZSz24HhlbUPF"
      },
      "source": [
        ""
      ]
    }
  ]
}